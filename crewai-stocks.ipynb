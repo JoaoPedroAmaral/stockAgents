{
 "cells": [
  {
   "cell_type": "code",
   "execution_count": null,
   "metadata": {},
   "outputs": [],
   "source": [
    "#install\n",
    "#%pip install yfinance\n",
    "#%pip install crewai\n",
    "#%pip install 'crewai[tools]'\n",
    "#pip install langchain\n",
    "%pip install langchain_openai\n",
    "%pip install langchain_community\n",
    "%pip install duckduckgo-search"
   ]
  },
  {
   "cell_type": "code",
   "execution_count": 3,
   "metadata": {},
   "outputs": [],
   "source": [
    "import json\n",
    "import os\n",
    "from datetime import datetime\n",
    "\n",
    "import yfinance as fy\n",
    "\n",
    "from crewai import Agent, Task, Crew, Process\n",
    "\n",
    "from langchain.tools import Tool\n",
    "from langchain_openai import ChatOpenAI\n",
    "from langchain_community.tools import DuckDuckGoSearchResults, BraveSearch\n",
    "\n",
    "\n",
    "from IPython.display import Markdown"
   ]
  },
  {
   "cell_type": "code",
   "execution_count": 5,
   "metadata": {},
   "outputs": [],
   "source": [
    "def fetch_stock_price(ticket):\n",
    "    stock = fy.download(ticket, start = \"2023-08-08\", end=\"2024-08-08\")\n",
    "    return stock\n",
    "\n",
    "yahoo_finance_tool = Tool(\n",
    "    name = \"Yahoo Finance Tool\",\n",
    "    description = \"Fetches stock prices for {ticket} from the last year about a specific stock from Yahoo Finance API\",\n",
    "    func = lambda ticket: fetch_stock_price(ticket)\n",
    ")"
   ]
  },
  {
   "cell_type": "code",
   "execution_count": 15,
   "metadata": {},
   "outputs": [
    {
     "ename": "KeyError",
     "evalue": "'OPENAI_API_KEY'",
     "output_type": "error",
     "traceback": [
      "\u001b[0;31m---------------------------------------------------------------------------\u001b[0m",
      "\u001b[0;31mKeyError\u001b[0m                                  Traceback (most recent call last)",
      "Cell \u001b[0;32mIn[15], line 1\u001b[0m\n\u001b[0;32m----> 1\u001b[0m \u001b[43mos\u001b[49m\u001b[38;5;241;43m.\u001b[39;49m\u001b[43menviron\u001b[49m\u001b[43m[\u001b[49m\u001b[38;5;124;43m'\u001b[39;49m\u001b[38;5;124;43mOPENAI_API_KEY\u001b[39;49m\u001b[38;5;124;43m'\u001b[39;49m\u001b[43m]\u001b[49m \u001b[38;5;241m==\u001b[39m \u001b[38;5;124m\"\u001b[39m\u001b[38;5;124mCOLOQUE SUA CHAVE\u001b[39m\u001b[38;5;124m\"\u001b[39m\n\u001b[1;32m      2\u001b[0m llm \u001b[38;5;241m=\u001b[39m ChatOpenAI(model\u001b[38;5;241m=\u001b[39m\u001b[38;5;124m\"\u001b[39m\u001b[38;5;124mgpt-3.5-turbo\u001b[39m\u001b[38;5;124m\"\u001b[39m)\n",
      "File \u001b[0;32m<frozen os>:679\u001b[0m, in \u001b[0;36m__getitem__\u001b[0;34m(self, key)\u001b[0m\n",
      "\u001b[0;31mKeyError\u001b[0m: 'OPENAI_API_KEY'"
     ]
    }
   ],
   "source": [
    "os.environ['OPENAI_API_KEY'] == \"COLOQUE SUA CHAVE\"\n",
    "llm = ChatOpenAI(model=\"gpt-3.5-turbo\")\n"
   ]
  },
  {
   "cell_type": "code",
   "execution_count": null,
   "metadata": {},
   "outputs": [],
   "source": [
    "stockPriceAnalisty = Agent(\n",
    "    roles = \"Senior stock price analisty\",\n",
    "    goal = \"find the {ticket} stok price and analyses trends\",\n",
    "    backstory = \"\"\" you`re hightly experienced in analysing the price of an a specific stock\n",
    "    and make predictions about it`s future price\"\"\",\n",
    "    verbose = True,\n",
    "    llm = llm,\n",
    "    max_iter = 5,\n",
    "    memory = True,\n",
    "    tools = [yahoo_finance_tool]\n",
    ")"
   ]
  },
  {
   "cell_type": "code",
   "execution_count": 18,
   "metadata": {},
   "outputs": [
    {
     "ename": "NameError",
     "evalue": "name 'stockPriceAnalisty' is not defined",
     "output_type": "error",
     "traceback": [
      "\u001b[0;31m---------------------------------------------------------------------------\u001b[0m",
      "\u001b[0;31mNameError\u001b[0m                                 Traceback (most recent call last)",
      "Cell \u001b[0;32mIn[18], line 5\u001b[0m\n\u001b[1;32m      1\u001b[0m getStockPrice \u001b[38;5;241m=\u001b[39m Task(\n\u001b[1;32m      2\u001b[0m     description \u001b[38;5;241m=\u001b[39m \u001b[38;5;124m\"\u001b[39m\u001b[38;5;124mAnalyse the stock \u001b[39m\u001b[38;5;132;01m{ticket}\u001b[39;00m\u001b[38;5;124m price history and create a trend analyses of up, down or sideways\u001b[39m\u001b[38;5;124m\"\u001b[39m,\n\u001b[1;32m      3\u001b[0m     expected_output \u001b[38;5;241m=\u001b[39m \u001b[38;5;124m\"\"\"\u001b[39m\u001b[38;5;124m Specify the current trend stock price - up, down or sideways.\u001b[39m\n\u001b[1;32m      4\u001b[0m \u001b[38;5;124m    eg. stock=\u001b[39m\u001b[38;5;124m'\u001b[39m\u001b[38;5;124mAPPL\u001b[39m\u001b[38;5;124m'\u001b[39m\u001b[38;5;124m, price UP \u001b[39m\u001b[38;5;124m\"\"\"\u001b[39m,\n\u001b[0;32m----> 5\u001b[0m     agent \u001b[38;5;241m=\u001b[39m \u001b[43mstockPriceAnalisty\u001b[49m\n\u001b[1;32m      6\u001b[0m )\n",
      "\u001b[0;31mNameError\u001b[0m: name 'stockPriceAnalisty' is not defined"
     ]
    }
   ],
   "source": [
    "getStockPrice = Task(\n",
    "    description = \"Analyse the stock {ticket} price history and create a trend analyses of up, down or sideways\",\n",
    "    expected_output = \"\"\" Specify the current trend stock price - up, down or sideways.\n",
    "    eg. stock='AAPL', price UP \"\"\",\n",
    "    agent = stockPriceAnalisty\n",
    ")"
   ]
  },
  {
   "cell_type": "code",
   "execution_count": null,
   "metadata": {},
   "outputs": [],
   "source": [
    "search_tool = DuckDuckGoSearchResults(backend='news', num_results=10)"
   ]
  },
  {
   "cell_type": "code",
   "execution_count": 17,
   "metadata": {},
   "outputs": [
    {
     "ename": "NameError",
     "evalue": "name 'llm' is not defined",
     "output_type": "error",
     "traceback": [
      "\u001b[0;31m---------------------------------------------------------------------------\u001b[0m",
      "\u001b[0;31mNameError\u001b[0m                                 Traceback (most recent call last)",
      "Cell \u001b[0;32mIn[17], line 12\u001b[0m\n\u001b[1;32m      1\u001b[0m newAnalist \u001b[38;5;241m=\u001b[39m Agent(\n\u001b[1;32m      2\u001b[0m     roles \u001b[38;5;241m=\u001b[39m \u001b[38;5;124m\"\u001b[39m\u001b[38;5;124mStock News Analisty\u001b[39m\u001b[38;5;124m\"\u001b[39m,\n\u001b[1;32m      3\u001b[0m     goal \u001b[38;5;241m=\u001b[39m \u001b[38;5;124m\"\"\"\u001b[39m\u001b[38;5;124mCreate a short sumary of the market news related to \u001b[39m\u001b[38;5;132;01m{ticket}\u001b[39;00m\u001b[38;5;124m company. Specify the current trend - up, down or sideways with\u001b[39m\n\u001b[1;32m      4\u001b[0m \u001b[38;5;124m    the news context. For each request stock assert, specify a numbet between 0 and 100, where 0 is extreme fear and 100 is extreme greed.\u001b[39m\u001b[38;5;124m\"\"\"\u001b[39m,\n\u001b[1;32m      5\u001b[0m     backstory \u001b[38;5;241m=\u001b[39m \u001b[38;5;124m\"\"\"\u001b[39m\u001b[38;5;124m you`re hightly experienced in analysing the market trends and news and have trackeds assert for more then 10 years.\u001b[39m\n\u001b[1;32m      6\u001b[0m \u001b[38;5;124m    you`re also master level analyts in the tradicional markets and deep understanding of human psycology.\u001b[39m\n\u001b[1;32m      7\u001b[0m \n\u001b[1;32m      8\u001b[0m \u001b[38;5;124m    You understand news, theirs tittles and information, but you look at those with a health dose skeptism. You consider also the source of the news articles\u001b[39m\n\u001b[1;32m      9\u001b[0m \u001b[38;5;124m     \u001b[39m\n\u001b[1;32m     10\u001b[0m \u001b[38;5;124m    \u001b[39m\u001b[38;5;124m\"\"\"\u001b[39m,\n\u001b[1;32m     11\u001b[0m     verbose \u001b[38;5;241m=\u001b[39m \u001b[38;5;28;01mTrue\u001b[39;00m,\n\u001b[0;32m---> 12\u001b[0m     llm \u001b[38;5;241m=\u001b[39m \u001b[43mllm\u001b[49m,\n\u001b[1;32m     13\u001b[0m     max_iter \u001b[38;5;241m=\u001b[39m \u001b[38;5;241m10\u001b[39m,\n\u001b[1;32m     14\u001b[0m     memory \u001b[38;5;241m=\u001b[39m \u001b[38;5;28;01mTrue\u001b[39;00m,\n\u001b[1;32m     15\u001b[0m     tools \u001b[38;5;241m=\u001b[39m [yahoo_finance_tool]\n\u001b[1;32m     16\u001b[0m )\n",
      "\u001b[0;31mNameError\u001b[0m: name 'llm' is not defined"
     ]
    }
   ],
   "source": [
    "newAnalist = Agent(\n",
    "    roles = \"Stock News Analisty\",\n",
    "    goal = \"\"\"Create a short sumary of the market news related to {ticket} company. Specify the current trend - up, down or sideways with\n",
    "    the news context. For each request stock assert, specify a numbet between 0 and 100, where 0 is extreme fear and 100 is extreme greed.\"\"\",\n",
    "    backstory = \"\"\" you`re hightly experienced in analysing the market trends and news and have trackeds assert for more then 10 years.\n",
    "    you`re also master level analyts in the tradicional markets and deep understanding of human psycology.\n",
    "\n",
    "    You understand news, theirs tittles and information, but you look at those with a health dose skeptism. You consider also the source of the news articles\n",
    "     \n",
    "    \"\"\",\n",
    "    verbose = True,\n",
    "    llm = llm,\n",
    "    max_iter = 10,\n",
    "    memory = True,\n",
    "    tools = [yahoo_finance_tool],\n",
    "    allow_delegation = False \n",
    ")"
   ]
  },
  {
   "cell_type": "code",
   "execution_count": 19,
   "metadata": {},
   "outputs": [
    {
     "ename": "NameError",
     "evalue": "name 'newAnalist' is not defined",
     "output_type": "error",
     "traceback": [
      "\u001b[0;31m---------------------------------------------------------------------------\u001b[0m",
      "\u001b[0;31mNameError\u001b[0m                                 Traceback (most recent call last)",
      "Cell \u001b[0;32mIn[19], line 15\u001b[0m\n\u001b[1;32m      1\u001b[0m get_new \u001b[38;5;241m=\u001b[39m Task(\n\u001b[1;32m      2\u001b[0m     description \u001b[38;5;241m=\u001b[39m \u001b[38;5;124m\"\"\"\u001b[39m\u001b[38;5;124mTake the stock and always include BTC to it (if not request)\u001b[39m\n\u001b[1;32m      3\u001b[0m \u001b[38;5;124m    Use the search tool to search each one individualy.\u001b[39m\n\u001b[1;32m      4\u001b[0m \u001b[38;5;124m    \u001b[39m\n\u001b[1;32m      5\u001b[0m \u001b[38;5;124m    the current date is \u001b[39m\u001b[38;5;124m{\u001b[39m\u001b[38;5;124mdatetime.now()}.\u001b[39m\n\u001b[1;32m      6\u001b[0m \u001b[38;5;124m    \u001b[39m\n\u001b[1;32m      7\u001b[0m \u001b[38;5;124m    compose the result into a helpfull report \u001b[39m\n\u001b[1;32m      8\u001b[0m \u001b[38;5;124m    \u001b[39m\u001b[38;5;124m\"\"\"\u001b[39m,\n\u001b[1;32m      9\u001b[0m     expected_output \u001b[38;5;241m=\u001b[39m \u001b[38;5;124m\"\"\"\u001b[39m\u001b[38;5;124mA summary of the overeall market and one sentence summary for each request asset.\u001b[39m\n\u001b[1;32m     10\u001b[0m \u001b[38;5;124m    Include a fear/greed score for each asset based on the news. Use format:\u001b[39m\n\u001b[1;32m     11\u001b[0m \u001b[38;5;124m    <STOCK ASSET>\u001b[39m\n\u001b[1;32m     12\u001b[0m \u001b[38;5;124m    <SUMMARY BASED ON NEWS>\u001b[39m\n\u001b[1;32m     13\u001b[0m \u001b[38;5;124m    <TREND PREDICTION>\u001b[39m\n\u001b[1;32m     14\u001b[0m \u001b[38;5;124m    <FEAR/GREED SCORE>    \u001b[39m\u001b[38;5;124m\"\"\"\u001b[39m,\n\u001b[0;32m---> 15\u001b[0m     agent \u001b[38;5;241m=\u001b[39m \u001b[43mnewAnalist\u001b[49m\n\u001b[1;32m     16\u001b[0m )\n",
      "\u001b[0;31mNameError\u001b[0m: name 'newAnalist' is not defined"
     ]
    }
   ],
   "source": [
    "get_new = Task(\n",
    "    description = \"\"\"Take the stock and always include BTC to it (if not request)\n",
    "    Use the search tool to search each one individualy.\n",
    "    \n",
    "    the current date is {datetime.now()}.\n",
    "    \n",
    "    compose the result into a helpfull report \n",
    "    \"\"\",\n",
    "    expected_output = \"\"\"A summary of the overeall market and one sentence summary for each request asset.\n",
    "    Include a fear/greed score for each asset based on the news. Use format:\n",
    "    <STOCK ASSET>\n",
    "    <SUMMARY BASED ON NEWS>\n",
    "    <TREND PREDICTION>\n",
    "    <FEAR/GREED SCORE>    \"\"\",\n",
    "    agent = newAnalist\n",
    ")"
   ]
  },
  {
   "cell_type": "code",
   "execution_count": 20,
   "metadata": {},
   "outputs": [
    {
     "ename": "NameError",
     "evalue": "name 'llm' is not defined",
     "output_type": "error",
     "traceback": [
      "\u001b[0;31m---------------------------------------------------------------------------\u001b[0m",
      "\u001b[0;31mNameError\u001b[0m                                 Traceback (most recent call last)",
      "Cell \u001b[0;32mIn[20], line 9\u001b[0m\n\u001b[1;32m      1\u001b[0m stockAnalistyWrite \u001b[38;5;241m=\u001b[39m Agent(\n\u001b[1;32m      2\u001b[0m     role \u001b[38;5;241m=\u001b[39m \u001b[38;5;124m\"\u001b[39m\u001b[38;5;124mSenior Stock Analyst Writer\u001b[39m\u001b[38;5;124m\"\u001b[39m,\n\u001b[1;32m      3\u001b[0m     goal \u001b[38;5;241m=\u001b[39m \u001b[38;5;124m\"\"\"\u001b[39m\u001b[38;5;124m Analyse trend prices and news and write an insighfull compelling and informative 3 paragraph long newletters based on the stock report and price trend.\u001b[39m\u001b[38;5;124m\"\"\"\u001b[39m,\n\u001b[1;32m      4\u001b[0m     backstory \u001b[38;5;241m=\u001b[39m \u001b[38;5;124m\"\"\"\u001b[39m\u001b[38;5;124m You`re widely accepted as the best stock analyst in the market. You understand complex concepts and create compelling stories and narratives\u001b[39m\n\u001b[1;32m      5\u001b[0m \u001b[38;5;124m    that resonate with wider audiences \u001b[39m\n\u001b[1;32m      6\u001b[0m \u001b[38;5;124m    you understand macro factors and combine multiples theories - eg. cyvle theory and fundamental analyses. You`re able to hold multipli opinions when analyzing anything.\u001b[39m\n\u001b[1;32m      7\u001b[0m \u001b[38;5;124m    \u001b[39m\u001b[38;5;124m\"\"\"\u001b[39m,\n\u001b[1;32m      8\u001b[0m     verbose \u001b[38;5;241m=\u001b[39m \u001b[38;5;28;01mTrue\u001b[39;00m,\n\u001b[0;32m----> 9\u001b[0m     llm \u001b[38;5;241m=\u001b[39m \u001b[43mllm\u001b[49m,\n\u001b[1;32m     10\u001b[0m     max_iter \u001b[38;5;241m=\u001b[39m \u001b[38;5;241m5\u001b[39m,\n\u001b[1;32m     11\u001b[0m     memory \u001b[38;5;241m=\u001b[39m \u001b[38;5;28;01mTrue\u001b[39;00m,\n\u001b[1;32m     12\u001b[0m     allow_delegation \u001b[38;5;241m=\u001b[39m \u001b[38;5;28;01mTrue\u001b[39;00m\n\u001b[1;32m     13\u001b[0m )\n",
      "\u001b[0;31mNameError\u001b[0m: name 'llm' is not defined"
     ]
    }
   ],
   "source": [
    "stockAnalistyWrite = Agent(\n",
    "    role = \"Senior Stock Analyst Writer\",\n",
    "    goal = \"\"\" Analyse trend prices and news and write an insighfull compelling and informative 3 paragraph long newletters based on the stock report and price trend.\"\"\",\n",
    "    backstory = \"\"\" You`re widely accepted as the best stock analyst in the market. You understand complex concepts and create compelling stories and narratives\n",
    "    that resonate with wider audiences \n",
    "    you understand macro factors and combine multiples theories - eg. cyvle theory and fundamental analyses. You`re able to hold multipli opinions when analyzing anything.\n",
    "    \"\"\",\n",
    "    verbose = True,\n",
    "    llm = llm,\n",
    "    max_iter = 5,\n",
    "    memory = True,\n",
    "    allow_delegation = True\n",
    ")"
   ]
  },
  {
   "cell_type": "code",
   "execution_count": 21,
   "metadata": {},
   "outputs": [
    {
     "ename": "NameError",
     "evalue": "name 'stockAnalistyWrite' is not defined",
     "output_type": "error",
     "traceback": [
      "\u001b[0;31m---------------------------------------------------------------------------\u001b[0m",
      "\u001b[0;31mNameError\u001b[0m                                 Traceback (most recent call last)",
      "Cell \u001b[0;32mIn[21], line 14\u001b[0m\n\u001b[1;32m      1\u001b[0m writeAnalyses \u001b[38;5;241m=\u001b[39m Task(\n\u001b[1;32m      2\u001b[0m     description \u001b[38;5;241m=\u001b[39m \u001b[38;5;124m\"\"\"\u001b[39m\u001b[38;5;124mUse the stock prices trend and the stock news report to create an analyses and write the newletter about the \u001b[39m\u001b[38;5;132;01m{ticket}\u001b[39;00m\u001b[38;5;124m company\u001b[39m\n\u001b[1;32m      3\u001b[0m \u001b[38;5;124m    that is brief and highlights the most important points.\u001b[39m\n\u001b[1;32m      4\u001b[0m \u001b[38;5;124m    Focus on the stock price trend, news and fear/greed score. What are the near future considerations?\u001b[39m\n\u001b[1;32m      5\u001b[0m \u001b[38;5;124m    Include the previous analyses of stock trend and news sumary.\u001b[39m\n\u001b[1;32m      6\u001b[0m \u001b[38;5;124m    \u001b[39m\u001b[38;5;124m\"\"\"\u001b[39m,\n\u001b[1;32m      7\u001b[0m     expected_output\u001b[38;5;241m=\u001b[39m\u001b[38;5;124m\"\"\"\u001b[39m\n\u001b[1;32m      8\u001b[0m \u001b[38;5;124m    An eloquent 3 paragraphs newletter formated as markdow in a easy readable manner. It should contains: \u001b[39m\n\u001b[1;32m      9\u001b[0m \u001b[38;5;124m    -3 bullets executives summary\u001b[39m\n\u001b[1;32m     10\u001b[0m \u001b[38;5;124m    -Introduction - set the overrall pictures and spike up the interest \u001b[39m\n\u001b[1;32m     11\u001b[0m \u001b[38;5;124m    -main part provides the meat of the analyst incluiding the news sumary and fead/greed scores\u001b[39m\n\u001b[1;32m     12\u001b[0m \u001b[38;5;124m    -sumary - keys facts and concrete future trend prediction - up, down or sideways.\u001b[39m\n\u001b[1;32m     13\u001b[0m \u001b[38;5;124m\"\"\"\u001b[39m,\n\u001b[0;32m---> 14\u001b[0m     agent \u001b[38;5;241m=\u001b[39m \u001b[43mstockAnalistyWrite\u001b[49m,\n\u001b[1;32m     15\u001b[0m     context \u001b[38;5;241m=\u001b[39m [getStockPrice, get_news]\n\u001b[1;32m     16\u001b[0m )\n",
      "\u001b[0;31mNameError\u001b[0m: name 'stockAnalistyWrite' is not defined"
     ]
    }
   ],
   "source": [
    "writeAnalyses = Task(\n",
    "    description = \"\"\"Use the stock prices trend and the stock news report to create an analyses and write the newletter about the {ticket} company\n",
    "    that is brief and highlights the most important points.\n",
    "    Focus on the stock price trend, news and fear/greed score. What are the near future considerations?\n",
    "    Include the previous analyses of stock trend and news sumary.\n",
    "    \"\"\",\n",
    "    expected_output=\"\"\"\n",
    "    An eloquent 3 paragraphs newletter formated as markdow in a easy readable manner. It should contains: \n",
    "    -3 bullets executives summary\n",
    "    -Introduction - set the overrall pictures and spike up the interest \n",
    "    -main part provides the meat of the analyst incluiding the news sumary and fead/greed scores\n",
    "    -sumary - keys facts and concrete future trend prediction - up, down or sideways.\n",
    "\"\"\",\n",
    "    agent = stockAnalistyWrite,\n",
    "    context = [getStockPrice, get_new]\n",
    ")"
   ]
  },
  {
   "cell_type": "code",
   "execution_count": 22,
   "metadata": {},
   "outputs": [
    {
     "ename": "NameError",
     "evalue": "name 'Crew' is not defined",
     "output_type": "error",
     "traceback": [
      "\u001b[0;31m---------------------------------------------------------------------------\u001b[0m",
      "\u001b[0;31mNameError\u001b[0m                                 Traceback (most recent call last)",
      "Cell \u001b[0;32mIn[22], line 1\u001b[0m\n\u001b[0;32m----> 1\u001b[0m crew \u001b[38;5;241m=\u001b[39m \u001b[43mCrew\u001b[49m(\n\u001b[1;32m      2\u001b[0m     agents \u001b[38;5;241m=\u001b[39m [stockPriceAnalisty, newAnalist, stockAnalistyWrite],\n\u001b[1;32m      3\u001b[0m     tasks \u001b[38;5;241m=\u001b[39m [getStockPrice, get_new, writeAnalyses],\n\u001b[1;32m      4\u001b[0m     verbose \u001b[38;5;241m=\u001b[39m \u001b[38;5;241m2\u001b[39m,\n\u001b[1;32m      5\u001b[0m     process \u001b[38;5;241m=\u001b[39m Process\u001b[38;5;241m.\u001b[39mhierarchical,\n\u001b[1;32m      6\u001b[0m     full_output \u001b[38;5;241m=\u001b[39m \u001b[38;5;28;01mTrue\u001b[39;00m,\n\u001b[1;32m      7\u001b[0m     share_crew \u001b[38;5;241m=\u001b[39m \u001b[38;5;28;01mFalse\u001b[39;00m,\n\u001b[1;32m      8\u001b[0m     manager_llm \u001b[38;5;241m=\u001b[39m llm,\n\u001b[1;32m      9\u001b[0m     max_iter \u001b[38;5;241m=\u001b[39m \u001b[38;5;241m15\u001b[39m\n\u001b[1;32m     10\u001b[0m )\n",
      "\u001b[0;31mNameError\u001b[0m: name 'Crew' is not defined"
     ]
    }
   ],
   "source": [
    "crew = Crew(\n",
    "    agents = [stockPriceAnalisty, newAnalist, stockAnalistyWrite],\n",
    "    tasks = [getStockPrice, get_new, writeAnalyses],\n",
    "    verbose = 2,\n",
    "    process = Process.hierarchical,\n",
    "    full_output = True,\n",
    "    share_crew = False,\n",
    "    manager_llm = llm,\n",
    "    max_iter = 15\n",
    ")"
   ]
  },
  {
   "cell_type": "code",
   "execution_count": 23,
   "metadata": {},
   "outputs": [
    {
     "ename": "NameError",
     "evalue": "name 'crew' is not defined",
     "output_type": "error",
     "traceback": [
      "\u001b[0;31m---------------------------------------------------------------------------\u001b[0m",
      "\u001b[0;31mNameError\u001b[0m                                 Traceback (most recent call last)",
      "Cell \u001b[0;32mIn[23], line 1\u001b[0m\n\u001b[0;32m----> 1\u001b[0m results \u001b[38;5;241m=\u001b[39m \u001b[43mcrew\u001b[49m\u001b[38;5;241m.\u001b[39mkickoff(\u001b[38;5;28minput\u001b[39m\u001b[38;5;241m=\u001b[39m{\u001b[38;5;124m'\u001b[39m\u001b[38;5;124mticket\u001b[39m\u001b[38;5;124m'\u001b[39m:\u001b[38;5;124m'\u001b[39m\u001b[38;5;124mAAPL\u001b[39m\u001b[38;5;124m'\u001b[39m})\n",
      "\u001b[0;31mNameError\u001b[0m: name 'crew' is not defined"
     ]
    }
   ],
   "source": [
    "results = crew.kickoff(input={'ticket':'AAPL'})"
   ]
  },
  {
   "cell_type": "code",
   "execution_count": 24,
   "metadata": {},
   "outputs": [
    {
     "ename": "NameError",
     "evalue": "name 'results' is not defined",
     "output_type": "error",
     "traceback": [
      "\u001b[0;31m---------------------------------------------------------------------------\u001b[0m",
      "\u001b[0;31mNameError\u001b[0m                                 Traceback (most recent call last)",
      "Cell \u001b[0;32mIn[24], line 1\u001b[0m\n\u001b[0;32m----> 1\u001b[0m \u001b[38;5;28mlist\u001b[39m(\u001b[43mresults\u001b[49m\u001b[38;5;241m.\u001b[39mkeys())\n",
      "\u001b[0;31mNameError\u001b[0m: name 'results' is not defined"
     ]
    }
   ],
   "source": [
    "list(results.keys())"
   ]
  },
  {
   "cell_type": "code",
   "execution_count": 25,
   "metadata": {},
   "outputs": [
    {
     "ename": "NameError",
     "evalue": "name 'results' is not defined",
     "output_type": "error",
     "traceback": [
      "\u001b[0;31m---------------------------------------------------------------------------\u001b[0m",
      "\u001b[0;31mNameError\u001b[0m                                 Traceback (most recent call last)",
      "Cell \u001b[0;32mIn[25], line 1\u001b[0m\n\u001b[0;32m----> 1\u001b[0m \u001b[43mresults\u001b[49m[\u001b[38;5;124m'\u001b[39m\u001b[38;5;124mfinal_output\u001b[39m\u001b[38;5;124m'\u001b[39m]\n",
      "\u001b[0;31mNameError\u001b[0m: name 'results' is not defined"
     ]
    }
   ],
   "source": [
    "results['final_output']"
   ]
  },
  {
   "cell_type": "code",
   "execution_count": 26,
   "metadata": {},
   "outputs": [
    {
     "ename": "NameError",
     "evalue": "name 'results' is not defined",
     "output_type": "error",
     "traceback": [
      "\u001b[0;31m---------------------------------------------------------------------------\u001b[0m",
      "\u001b[0;31mNameError\u001b[0m                                 Traceback (most recent call last)",
      "Cell \u001b[0;32mIn[26], line 1\u001b[0m\n\u001b[0;32m----> 1\u001b[0m \u001b[38;5;28mlen\u001b[39m(\u001b[43mresults\u001b[49m[\u001b[38;5;124m'\u001b[39m\u001b[38;5;124mtasks_output\u001b[39m\u001b[38;5;124m'\u001b[39m])\n",
      "\u001b[0;31mNameError\u001b[0m: name 'results' is not defined"
     ]
    }
   ],
   "source": [
    "len(results['tasks_output'])"
   ]
  },
  {
   "cell_type": "code",
   "execution_count": null,
   "metadata": {},
   "outputs": [],
   "source": [
    "Markdown(results['final_output'])"
   ]
  }
 ],
 "metadata": {
  "kernelspec": {
   "display_name": "Python 3",
   "language": "python",
   "name": "python3"
  },
  "language_info": {
   "codemirror_mode": {
    "name": "ipython",
    "version": 3
   },
   "file_extension": ".py",
   "mimetype": "text/x-python",
   "name": "python",
   "nbconvert_exporter": "python",
   "pygments_lexer": "ipython3",
   "version": "3.11.9"
  }
 },
 "nbformat": 4,
 "nbformat_minor": 2
}
